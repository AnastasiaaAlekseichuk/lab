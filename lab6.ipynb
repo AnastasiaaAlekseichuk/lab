{
  "nbformat": 4,
  "nbformat_minor": 0,
  "metadata": {
    "colab": {
      "name": "lab6",
      "provenance": [],
      "authorship_tag": "ABX9TyNIvMQkHonH/odk+3UJxABK",
      "include_colab_link": true
    },
    "kernelspec": {
      "name": "python3",
      "display_name": "Python 3"
    },
    "language_info": {
      "name": "python"
    }
  },
  "cells": [
    {
      "cell_type": "markdown",
      "metadata": {
        "id": "view-in-github",
        "colab_type": "text"
      },
      "source": [
        "<a href=\"https://colab.research.google.com/github/AnastasiaaAlekseichuk/lab/blob/main/lab6.ipynb\" target=\"_parent\"><img src=\"https://colab.research.google.com/assets/colab-badge.svg\" alt=\"Open In Colab\"/></a>"
      ]
    },
    {
      "cell_type": "markdown",
      "metadata": {
        "id": "tSqK5xXmB1F1"
      },
      "source": [
        "# **Лабораторная работа 6**\n",
        "Методы статистического анализа данных. Проверка нормальности данных "
      ]
    },
    {
      "cell_type": "markdown",
      "metadata": {
        "id": "RXFuNU1CB3T_"
      },
      "source": [
        "Вариант 8"
      ]
    },
    {
      "cell_type": "code",
      "metadata": {
        "id": "IdDwkHheP75J"
      },
      "source": [
        "import requests\n",
        "import pandas as pd\n",
        "import seaborn as sns\n",
        "import matplotlib.pyplot as plt\n",
        "#Importing the data from the webpage into a DataFrame\n",
        "url='https://en.wikipedia.org/wiki/List_of_highest-grossing_films_in_Japan'\n",
        "req=requests.get(url)\n",
        "data=pd.read_html(req.text)\n",
        "df1=data[0]"
      ],
      "execution_count": 141,
      "outputs": []
    },
    {
      "cell_type": "code",
      "metadata": {
        "id": "8ahnXmZHSJ1c"
      },
      "source": [
        "df = df1.rename({'Gross (¥ billion)': 'Gross'}, axis=1) "
      ],
      "execution_count": null,
      "outputs": []
    },
    {
      "cell_type": "code",
      "metadata": {
        "colab": {
          "base_uri": "https://localhost:8080/",
          "height": 1000
        },
        "id": "ffCYIeK1I1Qe",
        "outputId": "7a5afab9-a294-4d00-fae5-f7ed2172b2d3"
      },
      "source": [
        "df.head(35)"
      ],
      "execution_count": 169,
      "outputs": [
        {
          "output_type": "execute_result",
          "data": {
            "text/html": [
              "<div>\n",
              "<style scoped>\n",
              "    .dataframe tbody tr th:only-of-type {\n",
              "        vertical-align: middle;\n",
              "    }\n",
              "\n",
              "    .dataframe tbody tr th {\n",
              "        vertical-align: top;\n",
              "    }\n",
              "\n",
              "    .dataframe thead th {\n",
              "        text-align: right;\n",
              "    }\n",
              "</style>\n",
              "<table border=\"1\" class=\"dataframe\">\n",
              "  <thead>\n",
              "    <tr style=\"text-align: right;\">\n",
              "      <th></th>\n",
              "      <th>Rank</th>\n",
              "      <th>Title</th>\n",
              "      <th>Gross</th>\n",
              "      <th>Year</th>\n",
              "      <th>Ref</th>\n",
              "    </tr>\n",
              "  </thead>\n",
              "  <tbody>\n",
              "    <tr>\n",
              "      <th>0</th>\n",
              "      <td>1</td>\n",
              "      <td>Demon Slayer: Kimetsu no Yaiba the Movie: Muge...</td>\n",
              "      <td>3992</td>\n",
              "      <td>2020</td>\n",
              "      <td>[1]</td>\n",
              "    </tr>\n",
              "    <tr>\n",
              "      <th>1</th>\n",
              "      <td>2</td>\n",
              "      <td>Spirited Away</td>\n",
              "      <td>3168</td>\n",
              "      <td>2001</td>\n",
              "      <td>[2]</td>\n",
              "    </tr>\n",
              "    <tr>\n",
              "      <th>2</th>\n",
              "      <td>3</td>\n",
              "      <td>Titanic</td>\n",
              "      <td>2620</td>\n",
              "      <td>1997</td>\n",
              "      <td>[3]</td>\n",
              "    </tr>\n",
              "    <tr>\n",
              "      <th>3</th>\n",
              "      <td>4</td>\n",
              "      <td>Frozen</td>\n",
              "      <td>2548</td>\n",
              "      <td>2014</td>\n",
              "      <td>[4]</td>\n",
              "    </tr>\n",
              "    <tr>\n",
              "      <th>4</th>\n",
              "      <td>5</td>\n",
              "      <td>Your Name</td>\n",
              "      <td>2503</td>\n",
              "      <td>2016</td>\n",
              "      <td>[1]</td>\n",
              "    </tr>\n",
              "    <tr>\n",
              "      <th>5</th>\n",
              "      <td>6</td>\n",
              "      <td>Harry Potter and the Philosopher's Stone</td>\n",
              "      <td>2030</td>\n",
              "      <td>2001</td>\n",
              "      <td>[5]</td>\n",
              "    </tr>\n",
              "    <tr>\n",
              "      <th>6</th>\n",
              "      <td>7</td>\n",
              "      <td>Princess Mononoke</td>\n",
              "      <td>2018</td>\n",
              "      <td>1997</td>\n",
              "      <td>[2]</td>\n",
              "    </tr>\n",
              "    <tr>\n",
              "      <th>7</th>\n",
              "      <td>8</td>\n",
              "      <td>Howl's Moving Castle</td>\n",
              "      <td>1960</td>\n",
              "      <td>2004</td>\n",
              "      <td>[6]</td>\n",
              "    </tr>\n",
              "    <tr>\n",
              "      <th>8</th>\n",
              "      <td>9</td>\n",
              "      <td>Bayside Shakedown 2</td>\n",
              "      <td>1735</td>\n",
              "      <td>2003</td>\n",
              "      <td>[7]</td>\n",
              "    </tr>\n",
              "    <tr>\n",
              "      <th>9</th>\n",
              "      <td>1</td>\n",
              "      <td>Harry Potter and the Chamber of Secrets</td>\n",
              "      <td>1730</td>\n",
              "      <td>2002</td>\n",
              "      <td>[7]</td>\n",
              "    </tr>\n",
              "    <tr>\n",
              "      <th>10</th>\n",
              "      <td>11</td>\n",
              "      <td>Avatar</td>\n",
              "      <td>1560</td>\n",
              "      <td>2009</td>\n",
              "      <td>[8]</td>\n",
              "    </tr>\n",
              "    <tr>\n",
              "      <th>11</th>\n",
              "      <td>12</td>\n",
              "      <td>Ponyo</td>\n",
              "      <td>1550</td>\n",
              "      <td>2008</td>\n",
              "      <td>[9]</td>\n",
              "    </tr>\n",
              "    <tr>\n",
              "      <th>12</th>\n",
              "      <td>13</td>\n",
              "      <td>Weathering with You</td>\n",
              "      <td>1419</td>\n",
              "      <td>2019</td>\n",
              "      <td>[1]</td>\n",
              "    </tr>\n",
              "    <tr>\n",
              "      <th>13</th>\n",
              "      <td>14</td>\n",
              "      <td>The Last Samurai</td>\n",
              "      <td>1370</td>\n",
              "      <td>2003</td>\n",
              "      <td>[10]</td>\n",
              "    </tr>\n",
              "    <tr>\n",
              "      <th>14</th>\n",
              "      <td>15</td>\n",
              "      <td>E.T. the Extra-Terrestrial</td>\n",
              "      <td>1350</td>\n",
              "      <td>1982</td>\n",
              "      <td>[11]</td>\n",
              "    </tr>\n",
              "    <tr>\n",
              "      <th>15</th>\n",
              "      <td>15</td>\n",
              "      <td>Armageddon</td>\n",
              "      <td>1350</td>\n",
              "      <td>1998</td>\n",
              "      <td>[11]</td>\n",
              "    </tr>\n",
              "    <tr>\n",
              "      <th>16</th>\n",
              "      <td>15</td>\n",
              "      <td>Harry Potter and the Prisoner of Azkaban</td>\n",
              "      <td>1350</td>\n",
              "      <td>2004</td>\n",
              "      <td>[10]</td>\n",
              "    </tr>\n",
              "    <tr>\n",
              "      <th>17</th>\n",
              "      <td>18</td>\n",
              "      <td>Frozen II</td>\n",
              "      <td>1335</td>\n",
              "      <td>2019</td>\n",
              "      <td>[1]</td>\n",
              "    </tr>\n",
              "    <tr>\n",
              "      <th>18</th>\n",
              "      <td>19</td>\n",
              "      <td>Bohemian Rhapsody</td>\n",
              "      <td>1310</td>\n",
              "      <td>2018</td>\n",
              "      <td>[1]</td>\n",
              "    </tr>\n",
              "    <tr>\n",
              "      <th>19</th>\n",
              "      <td>2</td>\n",
              "      <td>Jurassic Park</td>\n",
              "      <td>1285</td>\n",
              "      <td>1993</td>\n",
              "      <td>[11]</td>\n",
              "    </tr>\n",
              "    <tr>\n",
              "      <th>20</th>\n",
              "      <td>21</td>\n",
              "      <td>Star Wars: Episode I – The Phantom Menace</td>\n",
              "      <td>1270</td>\n",
              "      <td>1999</td>\n",
              "      <td>[11]</td>\n",
              "    </tr>\n",
              "    <tr>\n",
              "      <th>21</th>\n",
              "      <td>22</td>\n",
              "      <td>Beauty and the Beast</td>\n",
              "      <td>1240</td>\n",
              "      <td>2017</td>\n",
              "      <td>[1]</td>\n",
              "    </tr>\n",
              "    <tr>\n",
              "      <th>22</th>\n",
              "      <td>23</td>\n",
              "      <td>Aladdin</td>\n",
              "      <td>1214</td>\n",
              "      <td>2019</td>\n",
              "      <td>[1]</td>\n",
              "    </tr>\n",
              "    <tr>\n",
              "      <th>23</th>\n",
              "      <td>24</td>\n",
              "      <td>The Wind Rises</td>\n",
              "      <td>1202</td>\n",
              "      <td>2013</td>\n",
              "      <td>[12]</td>\n",
              "    </tr>\n",
              "    <tr>\n",
              "      <th>24</th>\n",
              "      <td>25</td>\n",
              "      <td>Alice in Wonderland</td>\n",
              "      <td>1180</td>\n",
              "      <td>2010</td>\n",
              "      <td>[8]</td>\n",
              "    </tr>\n",
              "    <tr>\n",
              "      <th>25</th>\n",
              "      <td>26</td>\n",
              "      <td>Star Wars: The Force Awakens</td>\n",
              "      <td>1163</td>\n",
              "      <td>2015</td>\n",
              "      <td>[13]</td>\n",
              "    </tr>\n",
              "    <tr>\n",
              "      <th>26</th>\n",
              "      <td>27</td>\n",
              "      <td>Antarctica</td>\n",
              "      <td>1100</td>\n",
              "      <td>1983</td>\n",
              "      <td>[1]</td>\n",
              "    </tr>\n",
              "    <tr>\n",
              "      <th>27</th>\n",
              "      <td>27</td>\n",
              "      <td>The Matrix Reloaded</td>\n",
              "      <td>1100</td>\n",
              "      <td>2003</td>\n",
              "      <td>[7]</td>\n",
              "    </tr>\n",
              "    <tr>\n",
              "      <th>28</th>\n",
              "      <td>27</td>\n",
              "      <td>Finding Nemo</td>\n",
              "      <td>1100</td>\n",
              "      <td>2003</td>\n",
              "      <td>[10]</td>\n",
              "    </tr>\n",
              "    <tr>\n",
              "      <th>29</th>\n",
              "      <td>27</td>\n",
              "      <td>Harry Potter and the Goblet of Fire</td>\n",
              "      <td>1100</td>\n",
              "      <td>2005</td>\n",
              "      <td>[14]</td>\n",
              "    </tr>\n",
              "    <tr>\n",
              "      <th>30</th>\n",
              "      <td>31</td>\n",
              "      <td>Pirates of the Caribbean: At World's End</td>\n",
              "      <td>1090</td>\n",
              "      <td>2007</td>\n",
              "      <td>[15]</td>\n",
              "    </tr>\n",
              "    <tr>\n",
              "      <th>31</th>\n",
              "      <td>32</td>\n",
              "      <td>Toy Story 3</td>\n",
              "      <td>1080</td>\n",
              "      <td>2010</td>\n",
              "      <td>[8]</td>\n",
              "    </tr>\n",
              "    <tr>\n",
              "      <th>32</th>\n",
              "      <td>33</td>\n",
              "      <td>Independence Day</td>\n",
              "      <td>1065</td>\n",
              "      <td>1996</td>\n",
              "      <td>[1]</td>\n",
              "    </tr>\n",
              "    <tr>\n",
              "      <th>33</th>\n",
              "      <td>34</td>\n",
              "      <td>The Lord of the Rings: The Return of the King</td>\n",
              "      <td>1032</td>\n",
              "      <td>2004</td>\n",
              "      <td>[16]</td>\n",
              "    </tr>\n",
              "    <tr>\n",
              "      <th>34</th>\n",
              "      <td>35</td>\n",
              "      <td>Bayside Shakedown: The Movie</td>\n",
              "      <td>1010</td>\n",
              "      <td>1998</td>\n",
              "      <td>[17]</td>\n",
              "    </tr>\n",
              "  </tbody>\n",
              "</table>\n",
              "</div>"
            ],
            "text/plain": [
              "   Rank                                              Title Gross  Year   Ref\n",
              "0     1  Demon Slayer: Kimetsu no Yaiba the Movie: Muge...  3992  2020   [1]\n",
              "1     2                                      Spirited Away  3168  2001   [2]\n",
              "2     3                                            Titanic  2620  1997   [3]\n",
              "3     4                                             Frozen  2548  2014   [4]\n",
              "4     5                                          Your Name  2503  2016   [1]\n",
              "5     6           Harry Potter and the Philosopher's Stone  2030  2001   [5]\n",
              "6     7                                  Princess Mononoke  2018  1997   [2]\n",
              "7     8                               Howl's Moving Castle  1960  2004   [6]\n",
              "8     9                                Bayside Shakedown 2  1735  2003   [7]\n",
              "9     1            Harry Potter and the Chamber of Secrets  1730  2002   [7]\n",
              "10   11                                             Avatar  1560  2009   [8]\n",
              "11   12                                              Ponyo  1550  2008   [9]\n",
              "12   13                                Weathering with You  1419  2019   [1]\n",
              "13   14                                   The Last Samurai  1370  2003  [10]\n",
              "14   15                         E.T. the Extra-Terrestrial  1350  1982  [11]\n",
              "15   15                                         Armageddon  1350  1998  [11]\n",
              "16   15           Harry Potter and the Prisoner of Azkaban  1350  2004  [10]\n",
              "17   18                                          Frozen II  1335  2019   [1]\n",
              "18   19                                  Bohemian Rhapsody  1310  2018   [1]\n",
              "19    2                                      Jurassic Park  1285  1993  [11]\n",
              "20   21          Star Wars: Episode I – The Phantom Menace  1270  1999  [11]\n",
              "21   22                               Beauty and the Beast  1240  2017   [1]\n",
              "22   23                                            Aladdin  1214  2019   [1]\n",
              "23   24                                     The Wind Rises  1202  2013  [12]\n",
              "24   25                                Alice in Wonderland  1180  2010   [8]\n",
              "25   26                       Star Wars: The Force Awakens  1163  2015  [13]\n",
              "26   27                                         Antarctica  1100  1983   [1]\n",
              "27   27                                The Matrix Reloaded  1100  2003   [7]\n",
              "28   27                                       Finding Nemo  1100  2003  [10]\n",
              "29   27                Harry Potter and the Goblet of Fire  1100  2005  [14]\n",
              "30   31           Pirates of the Caribbean: At World's End  1090  2007  [15]\n",
              "31   32                                        Toy Story 3  1080  2010   [8]\n",
              "32   33                                   Independence Day  1065  1996   [1]\n",
              "33   34      The Lord of the Rings: The Return of the King  1032  2004  [16]\n",
              "34   35                       Bayside Shakedown: The Movie  1010  1998  [17]"
            ]
          },
          "metadata": {
            "tags": []
          },
          "execution_count": 169
        }
      ]
    },
    {
      "cell_type": "code",
      "metadata": {
        "id": "zipIqu6nLbBh"
      },
      "source": [
        "df2 = df.drop(['Rank', 'Title', 'Ref'], axis=1)"
      ],
      "execution_count": 171,
      "outputs": []
    },
    {
      "cell_type": "code",
      "metadata": {
        "colab": {
          "base_uri": "https://localhost:8080/",
          "height": 1000
        },
        "id": "Uf2wpyTPXlbx",
        "outputId": "c53e8383-6e86-4ec9-bc6d-e509d61f0600"
      },
      "source": [
        "df3 = df2.head(35)\n",
        "df3"
      ],
      "execution_count": 175,
      "outputs": [
        {
          "output_type": "execute_result",
          "data": {
            "text/html": [
              "<div>\n",
              "<style scoped>\n",
              "    .dataframe tbody tr th:only-of-type {\n",
              "        vertical-align: middle;\n",
              "    }\n",
              "\n",
              "    .dataframe tbody tr th {\n",
              "        vertical-align: top;\n",
              "    }\n",
              "\n",
              "    .dataframe thead th {\n",
              "        text-align: right;\n",
              "    }\n",
              "</style>\n",
              "<table border=\"1\" class=\"dataframe\">\n",
              "  <thead>\n",
              "    <tr style=\"text-align: right;\">\n",
              "      <th></th>\n",
              "      <th>Gross</th>\n",
              "      <th>Year</th>\n",
              "    </tr>\n",
              "  </thead>\n",
              "  <tbody>\n",
              "    <tr>\n",
              "      <th>0</th>\n",
              "      <td>3992</td>\n",
              "      <td>2020</td>\n",
              "    </tr>\n",
              "    <tr>\n",
              "      <th>1</th>\n",
              "      <td>3168</td>\n",
              "      <td>2001</td>\n",
              "    </tr>\n",
              "    <tr>\n",
              "      <th>2</th>\n",
              "      <td>2620</td>\n",
              "      <td>1997</td>\n",
              "    </tr>\n",
              "    <tr>\n",
              "      <th>3</th>\n",
              "      <td>2548</td>\n",
              "      <td>2014</td>\n",
              "    </tr>\n",
              "    <tr>\n",
              "      <th>4</th>\n",
              "      <td>2503</td>\n",
              "      <td>2016</td>\n",
              "    </tr>\n",
              "    <tr>\n",
              "      <th>5</th>\n",
              "      <td>2030</td>\n",
              "      <td>2001</td>\n",
              "    </tr>\n",
              "    <tr>\n",
              "      <th>6</th>\n",
              "      <td>2018</td>\n",
              "      <td>1997</td>\n",
              "    </tr>\n",
              "    <tr>\n",
              "      <th>7</th>\n",
              "      <td>1960</td>\n",
              "      <td>2004</td>\n",
              "    </tr>\n",
              "    <tr>\n",
              "      <th>8</th>\n",
              "      <td>1735</td>\n",
              "      <td>2003</td>\n",
              "    </tr>\n",
              "    <tr>\n",
              "      <th>9</th>\n",
              "      <td>1730</td>\n",
              "      <td>2002</td>\n",
              "    </tr>\n",
              "    <tr>\n",
              "      <th>10</th>\n",
              "      <td>1560</td>\n",
              "      <td>2009</td>\n",
              "    </tr>\n",
              "    <tr>\n",
              "      <th>11</th>\n",
              "      <td>1550</td>\n",
              "      <td>2008</td>\n",
              "    </tr>\n",
              "    <tr>\n",
              "      <th>12</th>\n",
              "      <td>1419</td>\n",
              "      <td>2019</td>\n",
              "    </tr>\n",
              "    <tr>\n",
              "      <th>13</th>\n",
              "      <td>1370</td>\n",
              "      <td>2003</td>\n",
              "    </tr>\n",
              "    <tr>\n",
              "      <th>14</th>\n",
              "      <td>1350</td>\n",
              "      <td>1982</td>\n",
              "    </tr>\n",
              "    <tr>\n",
              "      <th>15</th>\n",
              "      <td>1350</td>\n",
              "      <td>1998</td>\n",
              "    </tr>\n",
              "    <tr>\n",
              "      <th>16</th>\n",
              "      <td>1350</td>\n",
              "      <td>2004</td>\n",
              "    </tr>\n",
              "    <tr>\n",
              "      <th>17</th>\n",
              "      <td>1335</td>\n",
              "      <td>2019</td>\n",
              "    </tr>\n",
              "    <tr>\n",
              "      <th>18</th>\n",
              "      <td>1310</td>\n",
              "      <td>2018</td>\n",
              "    </tr>\n",
              "    <tr>\n",
              "      <th>19</th>\n",
              "      <td>1285</td>\n",
              "      <td>1993</td>\n",
              "    </tr>\n",
              "    <tr>\n",
              "      <th>20</th>\n",
              "      <td>1270</td>\n",
              "      <td>1999</td>\n",
              "    </tr>\n",
              "    <tr>\n",
              "      <th>21</th>\n",
              "      <td>1240</td>\n",
              "      <td>2017</td>\n",
              "    </tr>\n",
              "    <tr>\n",
              "      <th>22</th>\n",
              "      <td>1214</td>\n",
              "      <td>2019</td>\n",
              "    </tr>\n",
              "    <tr>\n",
              "      <th>23</th>\n",
              "      <td>1202</td>\n",
              "      <td>2013</td>\n",
              "    </tr>\n",
              "    <tr>\n",
              "      <th>24</th>\n",
              "      <td>1180</td>\n",
              "      <td>2010</td>\n",
              "    </tr>\n",
              "    <tr>\n",
              "      <th>25</th>\n",
              "      <td>1163</td>\n",
              "      <td>2015</td>\n",
              "    </tr>\n",
              "    <tr>\n",
              "      <th>26</th>\n",
              "      <td>1100</td>\n",
              "      <td>1983</td>\n",
              "    </tr>\n",
              "    <tr>\n",
              "      <th>27</th>\n",
              "      <td>1100</td>\n",
              "      <td>2003</td>\n",
              "    </tr>\n",
              "    <tr>\n",
              "      <th>28</th>\n",
              "      <td>1100</td>\n",
              "      <td>2003</td>\n",
              "    </tr>\n",
              "    <tr>\n",
              "      <th>29</th>\n",
              "      <td>1100</td>\n",
              "      <td>2005</td>\n",
              "    </tr>\n",
              "    <tr>\n",
              "      <th>30</th>\n",
              "      <td>1090</td>\n",
              "      <td>2007</td>\n",
              "    </tr>\n",
              "    <tr>\n",
              "      <th>31</th>\n",
              "      <td>1080</td>\n",
              "      <td>2010</td>\n",
              "    </tr>\n",
              "    <tr>\n",
              "      <th>32</th>\n",
              "      <td>1065</td>\n",
              "      <td>1996</td>\n",
              "    </tr>\n",
              "    <tr>\n",
              "      <th>33</th>\n",
              "      <td>1032</td>\n",
              "      <td>2004</td>\n",
              "    </tr>\n",
              "    <tr>\n",
              "      <th>34</th>\n",
              "      <td>1010</td>\n",
              "      <td>1998</td>\n",
              "    </tr>\n",
              "  </tbody>\n",
              "</table>\n",
              "</div>"
            ],
            "text/plain": [
              "   Gross  Year\n",
              "0   3992  2020\n",
              "1   3168  2001\n",
              "2   2620  1997\n",
              "3   2548  2014\n",
              "4   2503  2016\n",
              "5   2030  2001\n",
              "6   2018  1997\n",
              "7   1960  2004\n",
              "8   1735  2003\n",
              "9   1730  2002\n",
              "10  1560  2009\n",
              "11  1550  2008\n",
              "12  1419  2019\n",
              "13  1370  2003\n",
              "14  1350  1982\n",
              "15  1350  1998\n",
              "16  1350  2004\n",
              "17  1335  2019\n",
              "18  1310  2018\n",
              "19  1285  1993\n",
              "20  1270  1999\n",
              "21  1240  2017\n",
              "22  1214  2019\n",
              "23  1202  2013\n",
              "24  1180  2010\n",
              "25  1163  2015\n",
              "26  1100  1983\n",
              "27  1100  2003\n",
              "28  1100  2003\n",
              "29  1100  2005\n",
              "30  1090  2007\n",
              "31  1080  2010\n",
              "32  1065  1996\n",
              "33  1032  2004\n",
              "34  1010  1998"
            ]
          },
          "metadata": {
            "tags": []
          },
          "execution_count": 175
        }
      ]
    },
    {
      "cell_type": "code",
      "metadata": {
        "colab": {
          "base_uri": "https://localhost:8080/"
        },
        "id": "BOH3dbnrJH_h",
        "outputId": "84f83d36-860b-4b99-8ef7-9d68ba36b0d3"
      },
      "source": [
        "df3.info()"
      ],
      "execution_count": 176,
      "outputs": [
        {
          "output_type": "stream",
          "text": [
            "<class 'pandas.core.frame.DataFrame'>\n",
            "Int64Index: 35 entries, 0 to 34\n",
            "Data columns (total 2 columns):\n",
            " #   Column  Non-Null Count  Dtype \n",
            "---  ------  --------------  ----- \n",
            " 0   Gross   35 non-null     object\n",
            " 1   Year    35 non-null     object\n",
            "dtypes: object(2)\n",
            "memory usage: 840.0+ bytes\n"
          ],
          "name": "stdout"
        }
      ]
    },
    {
      "cell_type": "code",
      "metadata": {
        "id": "I7c4geWhMjS5",
        "colab": {
          "base_uri": "https://localhost:8080/"
        },
        "outputId": "748dbe6d-bcb2-48f7-da80-66b56cd69a4e"
      },
      "source": [
        "df3['Gross']=df3[\"Gross\"].astype('int64')"
      ],
      "execution_count": 177,
      "outputs": [
        {
          "output_type": "stream",
          "text": [
            "/usr/local/lib/python3.7/dist-packages/ipykernel_launcher.py:1: SettingWithCopyWarning: \n",
            "A value is trying to be set on a copy of a slice from a DataFrame.\n",
            "Try using .loc[row_indexer,col_indexer] = value instead\n",
            "\n",
            "See the caveats in the documentation: https://pandas.pydata.org/pandas-docs/stable/user_guide/indexing.html#returning-a-view-versus-a-copy\n",
            "  \"\"\"Entry point for launching an IPython kernel.\n"
          ],
          "name": "stderr"
        }
      ]
    },
    {
      "cell_type": "code",
      "metadata": {
        "colab": {
          "base_uri": "https://localhost:8080/"
        },
        "id": "bmXoWGQkMwZm",
        "outputId": "0bc15c67-97b5-47b3-c2c3-b7c59cc54449"
      },
      "source": [
        "df3.info()"
      ],
      "execution_count": 179,
      "outputs": [
        {
          "output_type": "stream",
          "text": [
            "<class 'pandas.core.frame.DataFrame'>\n",
            "Int64Index: 35 entries, 0 to 34\n",
            "Data columns (total 2 columns):\n",
            " #   Column  Non-Null Count  Dtype \n",
            "---  ------  --------------  ----- \n",
            " 0   Gross   35 non-null     int64 \n",
            " 1   Year    35 non-null     object\n",
            "dtypes: int64(1), object(1)\n",
            "memory usage: 840.0+ bytes\n"
          ],
          "name": "stdout"
        }
      ]
    },
    {
      "cell_type": "code",
      "metadata": {
        "id": "R2w2acVHxiEE"
      },
      "source": [
        "Year = df3['Year']\n",
        "Gross = df3['Gross']"
      ],
      "execution_count": 180,
      "outputs": []
    },
    {
      "cell_type": "markdown",
      "metadata": {
        "id": "AkwOuY_Yzieg"
      },
      "source": [
        "# Тестовый набор данных"
      ]
    },
    {
      "cell_type": "code",
      "metadata": {
        "id": "Q4UUZH2dzmBz"
      },
      "source": [
        "from numpy import mean\n",
        "from numpy import std"
      ],
      "execution_count": null,
      "outputs": []
    },
    {
      "cell_type": "code",
      "metadata": {
        "colab": {
          "base_uri": "https://localhost:8080/"
        },
        "id": "2roJDyAPCFmL",
        "outputId": "0411156c-091a-449f-ae12-ed2f0d7b6fa5"
      },
      "source": [
        "print('mean=%.3f std=%.3f' % (mean(Gross), std(Gross)))"
      ],
      "execution_count": 181,
      "outputs": [
        {
          "output_type": "stream",
          "text": [
            "mean=1575.114 std=662.657\n"
          ],
          "name": "stdout"
        }
      ]
    },
    {
      "cell_type": "markdown",
      "metadata": {
        "id": "ZHNEV7ZeWUCe"
      },
      "source": [
        "# Визуальные проверки нормальности"
      ]
    },
    {
      "cell_type": "code",
      "metadata": {
        "colab": {
          "base_uri": "https://localhost:8080/",
          "height": 592
        },
        "id": "ZQGOgxKOWhIX",
        "outputId": "1fdecff3-3055-453a-fff2-969f3ad07171"
      },
      "source": [
        "from numpy.random import seed\n",
        "from numpy.random import randn\n",
        "from matplotlib import pyplot\n",
        "plt.figure(figsize=(15,10))\n",
        "pyplot.hist(Gross)\n",
        "pyplot.show()"
      ],
      "execution_count": 182,
      "outputs": [
        {
          "output_type": "display_data",
          "data": {
            "image/png": "[encoded data removed]",
            "text/plain": [
              "<Figure size 1080x720 with 1 Axes>"
            ]
          },
          "metadata": {
            "tags": [],
            "needs_background": "light"
          }
        }
      ]
    },
    {
      "cell_type": "code",
      "metadata": {
        "colab": {
          "base_uri": "https://localhost:8080/",
          "height": 278
        },
        "id": "wsxft2jIr00W",
        "outputId": "0130904e-af46-4eff-96ed-a6fb15429d28"
      },
      "source": [
        "from numpy.random import seed\n",
        "from numpy.random import randn\n",
        "from statsmodels.graphics.gofplots import qqplot\n",
        "\n",
        "qqplot(Gross, line='s')\n",
        "pyplot.show()"
      ],
      "execution_count": 183,
      "outputs": [
        {
          "output_type": "display_data",
          "data": {
            "image/png": "[encoded data removed]",
            "text/plain": [
              "<Figure size 432x288 with 1 Axes>"
            ]
          },
          "metadata": {
            "tags": [],
            "needs_background": "light"
          }
        }
      ]
    },
    {
      "cell_type": "markdown",
      "metadata": {
        "id": "ypj7vjIpNJ48"
      },
      "source": [
        "# Статистические тесты нормальности данных"
      ]
    },
    {
      "cell_type": "markdown",
      "metadata": {
        "id": "V40CWc-GXEbd"
      },
      "source": [
        "Тест Шапиро-Вилка"
      ]
    },
    {
      "cell_type": "code",
      "metadata": {
        "colab": {
          "base_uri": "https://localhost:8080/"
        },
        "id": "FvQnuEhKXFsk",
        "outputId": "f138cc2b-a0ea-4c3b-fc25-dfc0b516e2ac"
      },
      "source": [
        "from scipy.stats import shapiro\n",
        "\n",
        "stat, p = shapiro(Gross)\n",
        "print('Statistics=%.3f, p=%.3f' % (stat, p))\n",
        "alpha=0.05\n",
        "if p>alpha:\n",
        "  print('Sample looks Gaussian (fail to reject H0)')\n",
        "else:\n",
        "  print('Sample does not Gaussian (reject H0)')"
      ],
      "execution_count": 184,
      "outputs": [
        {
          "output_type": "stream",
          "text": [
            "Statistics=0.751, p=0.000\n",
            "Sample does not Gaussian (reject H0)\n"
          ],
          "name": "stdout"
        }
      ]
    },
    {
      "cell_type": "markdown",
      "metadata": {
        "id": "hIWrEDAZYxQM"
      },
      "source": [
        "Тест д'Агостино на K ^ 2"
      ]
    },
    {
      "cell_type": "code",
      "metadata": {
        "colab": {
          "base_uri": "https://localhost:8080/"
        },
        "id": "6Zco-U7uPpWV",
        "outputId": "a6ccf074-a01a-49c3-c544-0c4b0aef0d82"
      },
      "source": [
        "from scipy.stats import normaltest\n",
        "\n",
        "stat, p = normaltest(Gross)\n",
        "print('Statistics=%.3f, p=%.3f' % (stat, p))\n",
        "alpha=0.05\n",
        "if p>alpha:\n",
        "  print('Sample looks Gaussian (fail to reject H0)')\n",
        "else:\n",
        "  print('Sample does not Gaussian (reject H0)')\n"
      ],
      "execution_count": 185,
      "outputs": [
        {
          "output_type": "stream",
          "text": [
            "Statistics=25.167, p=0.000\n",
            "Sample does not Gaussian (reject H0)\n"
          ],
          "name": "stdout"
        }
      ]
    },
    {
      "cell_type": "markdown",
      "metadata": {
        "id": "k-xLEk1EZQD4"
      },
      "source": [
        "Тест Андерсона-Дарлинга"
      ]
    },
    {
      "cell_type": "code",
      "metadata": {
        "colab": {
          "base_uri": "https://localhost:8080/"
        },
        "id": "GU9wq8HbNqHM",
        "outputId": "82afb101-606f-4b08-d803-116d40d1b902"
      },
      "source": [
        "from scipy.stats import anderson\n",
        "\n",
        "result = anderson(Gross)\n",
        "print('Statistics: %.3f' % result.statistic)\n",
        "p=0\n",
        "for i in range(len(result.critical_values)):\n",
        "  sl, cv = result.significance_level[i], result.critical_values[i]\n",
        "  if result.statistic < result.critical_values[i]:\n",
        "    print('%.3f: %.3f, data looks normal (fail to reject H0)' % (sl,cv))\n",
        "  else:\n",
        "    print('%.3f: %.3f, data does not look normal (reject H0)' % (sl,cv))"
      ],
      "execution_count": 186,
      "outputs": [
        {
          "output_type": "stream",
          "text": [
            "Statistics: 3.017\n",
            "15.000: 0.527, data does not look normal (reject H0)\n",
            "10.000: 0.600, data does not look normal (reject H0)\n",
            "5.000: 0.719, data does not look normal (reject H0)\n",
            "2.500: 0.839, data does not look normal (reject H0)\n",
            "1.000: 0.998, data does not look normal (reject H0)\n"
          ],
          "name": "stdout"
        }
      ]
    },
    {
      "cell_type": "markdown",
      "metadata": {
        "id": "IULWgHXDOOf-"
      },
      "source": [
        "# Итог"
      ]
    },
    {
      "cell_type": "markdown",
      "metadata": {
        "id": "-e2wDbClZfcI"
      },
      "source": [
        "![image.png](data:image/png;base64,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)"
      ]
    }
  ]
}