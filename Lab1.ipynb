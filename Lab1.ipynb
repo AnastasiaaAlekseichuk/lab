{
  "nbformat": 4,
  "nbformat_minor": 0,
  "metadata": {
    "colab": {
      "name": "Lab1",
      "provenance": [],
      "authorship_tag": "ABX9TyNbybqaDysfL7JnhdHa7nMh",
      "include_colab_link": true
    },
    "kernelspec": {
      "name": "python3",
      "display_name": "Python 3"
    }
  },
  "cells": [
    {
      "cell_type": "markdown",
      "metadata": {
        "id": "view-in-github",
        "colab_type": "text"
      },
      "source": [
        "<a href=\"https://colab.research.google.com/github/AnastasiaaAlekseichuk/lab/blob/main/Lab1.ipynb\" target=\"_parent\"><img src=\"https://colab.research.google.com/assets/colab-badge.svg\" alt=\"Open In Colab\"/></a>"
      ]
    },
    {
      "cell_type": "markdown",
      "metadata": {
        "id": "uAl1-Y0KIPI0"
      },
      "source": [
        "1.8. Считайте число n. Создайте единичную матрицу размера n, сохраните результат в\r\n",
        "переменную Z.\r\n"
      ]
    },
    {
      "cell_type": "code",
      "metadata": {
        "colab": {
          "base_uri": "https://localhost:8080/"
        },
        "id": "dpNsfmQEiib6",
        "outputId": "13dcfb8a-6106-47b4-936e-5f0fa25bf687"
      },
      "source": [
        "import numpy as np\n",
        "\n",
        "n = int(input('Введите число: '))\n",
        "Z = np.eye(n)\n",
        "Z"
      ],
      "execution_count": 1,
      "outputs": [
        {
          "output_type": "stream",
          "text": [
            "Введите число: 3\n"
          ],
          "name": "stdout"
        },
        {
          "output_type": "execute_result",
          "data": {
            "text/plain": [
              "array([[1., 0., 0.],\n",
              "       [0., 1., 0.],\n",
              "       [0., 0., 1.]])"
            ]
          },
          "metadata": {
            "tags": []
          },
          "execution_count": 1
        }
      ]
    },
    {
      "cell_type": "code",
      "metadata": {
        "colab": {
          "base_uri": "https://localhost:8080/"
        },
        "id": "i4likz3MfcKO",
        "outputId": "50febb70-8050-4ad0-c745-c6bc97836a5e"
      },
      "source": [
        "n = int(input('Введите число: '))\n",
        "\n",
        "Z = []\n",
        "for i in range(n):\n",
        "    Z.append([])\n",
        "    for g in range(n):\n",
        "        if i == g:\n",
        "            Z[i].append(1) \n",
        "        else: \n",
        "            Z[i].append(0)    \n",
        "for i in range(n):\n",
        "    print(Z[i])\n"
      ],
      "execution_count": 6,
      "outputs": [
        {
          "output_type": "stream",
          "text": [
            "Введите число: 3\n",
            "[1, 0, 0]\n",
            "[0, 1, 0]\n",
            "[0, 0, 1]\n"
          ],
          "name": "stdout"
        }
      ]
    },
    {
      "cell_type": "code",
      "metadata": {
        "colab": {
          "base_uri": "https://localhost:8080/"
        },
        "id": "It0UHbvijDHe",
        "outputId": "6772a16b-2741-4fb4-bc4b-aa0a88ce0a28"
      },
      "source": [
        "import timeit\n",
        "import numpy as np\n",
        "\n",
        "\n",
        "def python(n):\n",
        "    Z = []\n",
        "    for i in range(0, n):\n",
        "        Z.append([])\n",
        "        for g in range(0, n):\n",
        "            if i == g:\n",
        "                Z[i].append(1)\n",
        "            else:\n",
        "                Z[i].append(0)\n",
        "    return Z\n",
        "\n",
        "\n",
        "def nump(n):\n",
        "    Z = np.eye(n)\n",
        "    return Z\n",
        "\n",
        "if __name__ == '__main__':\n",
        "\n",
        "    # For smaller arrays\n",
        "    # print('Array size: 100')\n",
        "\n",
        "    start_time = timeit.default_timer()\n",
        "    python(100)\n",
        "    python_time_1 = timeit.default_timer() - start_time\n",
        "\n",
        "    start_time = timeit.default_timer()\n",
        "    nump(100)\n",
        "    nump_time_1 = timeit.default_timer() - start_time\n",
        "\n",
        "    # For large arrays\n",
        "    # print('Array size: 10000')\n",
        "\n",
        "    start_time = timeit.default_timer()\n",
        "    python(10000)\n",
        "    python_time_2 = timeit.default_timer() - start_time\n",
        "\n",
        "    start_time = timeit.default_timer()\n",
        "    nump(10000)\n",
        "    nump_time_2 = timeit.default_timer() - start_time\n",
        "\n",
        "print('Array size: 100')\n",
        "\n",
        "print(f'n 100: python() время {python_time_1}')\n",
        "print(f'n 100: nump() время {nump_time_1}')\n",
        "\n",
        "print('Array size: 10000')\n",
        "print(f'n 10000: python() время {python_time_2}')\n",
        "print(f'n 10000: nump() время {nump_time_2}')\n"
      ],
      "execution_count": 11,
      "outputs": [
        {
          "output_type": "stream",
          "text": [
            "Array size: 100\n",
            "n 100: python() время 0.0010719999991124496\n",
            "n 100: nump() время 6.292000034591183e-05\n",
            "Array size: 10000\n",
            "n 10000: python() время 11.604813702999309\n",
            "n 10000: nump() время 0.07966590299838572\n"
          ],
          "name": "stdout"
        }
      ]
    },
    {
      "cell_type": "markdown",
      "metadata": {
        "id": "rU0ze9vIGnZe"
      },
      "source": [
        "Вывод: скорость работы кода, написанного с помощью numpy, в обоих случаях больше, чем на python, т.о. времени на выполнение кода затрачивается меньше."
      ]
    }
  ]
}