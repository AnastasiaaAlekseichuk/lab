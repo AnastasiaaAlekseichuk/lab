{
  "nbformat": 4,
  "nbformat_minor": 0,
  "metadata": {
    "colab": {
      "name": "Lab3",
      "provenance": [],
      "authorship_tag": "ABX9TyOfcA3R7Nmm46/ilp2buj42",
      "include_colab_link": true
    },
    "kernelspec": {
      "name": "python3",
      "display_name": "Python 3"
    }
  },
  "cells": [
    {
      "cell_type": "markdown",
      "metadata": {
        "id": "view-in-github",
        "colab_type": "text"
      },
      "source": [
        "<a href=\"https://colab.research.google.com/github/AnastasiaaAlekseichuk/lab/blob/main/Lab3.ipynb\" target=\"_parent\"><img src=\"https://colab.research.google.com/assets/colab-badge.svg\" alt=\"Open In Colab\"/></a>"
      ]
    },
    {
      "cell_type": "markdown",
      "metadata": {
        "id": "RH4okXrHNXSr"
      },
      "source": [
        "# 1. Напишите программу для численного вычисления определённого интеграла с помощью средств SciPy. Сравните результаты вычисления различными функциями интегрирования с точным решением. Вар. 8\n"
      ]
    },
    {
      "cell_type": "markdown",
      "metadata": {
        "id": "6NuWIAVY_qEQ"
      },
      "source": [
        "Вариант 8"
      ]
    },
    {
      "cell_type": "code",
      "metadata": {
        "colab": {
          "base_uri": "https://localhost:8080/"
        },
        "id": "vPiVYXxFb7Nc",
        "outputId": "7af4b662-783d-4d12-c705-d86737b38a4e"
      },
      "source": [
        "from scipy import integrate\n",
        "def f(x):\n",
        "    return 1.0/(x**2 + x - 2.0)\n",
        "integrate.quad(f, -1.9, 0.9)"
      ],
      "execution_count": null,
      "outputs": [
        {
          "output_type": "execute_result",
          "data": {
            "text/plain": [
              "(-2.2448638866576496, 3.793148940608059e-10)"
            ]
          },
          "metadata": {
            "tags": []
          },
          "execution_count": 1
        }
      ]
    },
    {
      "cell_type": "markdown",
      "metadata": {
        "id": "V73E3JQlNn7K"
      },
      "source": [
        "# 2. Напишите программу для численного решения обыкновенного дифференциального уравнения с заданным начальным условием с помощью средств SciPy. Сравните результат вычисления с точным решением. Нарисуйте графики точного и численного решений, а также относительной ошибки численного решения."
      ]
    },
    {
      "cell_type": "markdown",
      "metadata": {
        "id": "H65tPSv84Vt7"
      },
      "source": [
        "Вариант 8"
      ]
    },
    {
      "cell_type": "code",
      "metadata": {
        "colab": {
          "base_uri": "https://localhost:8080/",
          "height": 294
        },
        "id": "C6BuHOKalnqc",
        "outputId": "a4eb33c8-b2dc-4101-caaa-168fbbc1d21c"
      },
      "source": [
        "import numpy as np\n",
        "from scipy.integrate import odeint\n",
        "from matplotlib import pyplot as plt\n",
        "\n",
        "def dydx(y, x):\n",
        "    return 3*y\n",
        "\n",
        "x = np.linspace(0, 10, 50) \n",
        "y0 = 1 \n",
        "y = odeint(dydx, y0, x)\n",
        "y = np.array(y).flatten()\n",
        "\n",
        "fig = plt.figure(facecolor = 'white')\n",
        "ax = fig.add_subplot(111)\n",
        "ax.set(title = 'Решение ОДУ 1-го порядка')\n",
        "ax.set_xlabel('t')\n",
        "ax.set_ylabel('f')\n",
        "ax.plot(x, y, 'r.')\n",
        "lgnd = ax.legend(['y'], shadow = True)\n",
        "plt.grid = True\n",
        "plt.show()"
      ],
      "execution_count": 5,
      "outputs": [
        {
          "output_type": "display_data",
          "data": {
            "image/png": "[encoded data removed]",
            "text/plain": [
              "<Figure size 432x288 with 1 Axes>"
            ]
          },
          "metadata": {
            "tags": []
          }
        }
      ]
    },
    {
      "cell_type": "code",
      "metadata": {
        "id": "CyNc9x_lNnmR"
      },
      "source": [
        "import numpy as np\n",
        "from scipy import integrate\n",
        "from matplotlib import pyplot as plt\n",
        "\n",
        "def f(yf,x):\n",
        "  v = yf[0]\n",
        "  y = yf[1]\n",
        "  f0 = 3*y\n",
        "  f1 = v\n",
        "  return [f0, f1]"
      ],
      "execution_count": 7,
      "outputs": []
    },
    {
      "cell_type": "code",
      "metadata": {
        "id": "xwuFvk8AmEex"
      },
      "source": [
        "#массив точек интегрирования\n",
        "xi = np.linspace(0, 1, 100)\n",
        "#начальная координата\n",
        "x0 = 1\n",
        "#начальная скорость\n",
        "v0 = 0\n",
        "#список начальных условий\n",
        "y0 = [x0, v0]"
      ],
      "execution_count": 8,
      "outputs": []
    },
    {
      "cell_type": "code",
      "metadata": {
        "id": "lSSJO01c-SAF"
      },
      "source": [
        "#решение ОДУ\n",
        "sol = integrate.odeint(f, y0, xi)\n",
        "y1 = sol[:,0]\n",
        "y2 = sol[:, 1]"
      ],
      "execution_count": 9,
      "outputs": []
    },
    {
      "cell_type": "code",
      "metadata": {
        "colab": {
          "base_uri": "https://localhost:8080/",
          "height": 294
        },
        "id": "afWCA-n3-wXn",
        "outputId": "b6d86106-520f-4051-e2f3-4400cce4d1c8"
      },
      "source": [
        "fig = plt.figure(facecolor = 'white')\n",
        "ax = fig.add_subplot(111)\n",
        "ax.set(title = 'Решение ОДУ 2-го порядка')\n",
        "ax.set_xlabel('t')\n",
        "ax.set_ylabel('f')\n",
        "ax.plot(xi, y1, color = 'grey')\n",
        "ax.plot(xi, y2, 'g.')\n",
        "lgnd = ax.legend(['y1', 'y2'], shadow = True)\n",
        "plt.grid = True\n",
        "plt.show()"
      ],
      "execution_count": 12,
      "outputs": [
        {
          "output_type": "display_data",
          "data": {
            "image/png": "[encoded data removed]",
            "text/plain": [
              "<Figure size 432x288 with 1 Axes>"
            ]
          },
          "metadata": {
            "tags": []
          }
        }
      ]
    }
  ]
}